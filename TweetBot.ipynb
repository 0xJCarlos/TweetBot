{
  "nbformat": 4,
  "nbformat_minor": 0,
  "metadata": {
    "colab": {
      "name": "TweetBot.ipynb",
      "provenance": [],
      "collapsed_sections": [],
      "authorship_tag": "ABX9TyOiCGFleljvGPAXB17DxNfg",
      "include_colab_link": true
    },
    "kernelspec": {
      "name": "python3",
      "display_name": "Python 3"
    },
    "language_info": {
      "name": "python"
    }
  },
  "cells": [
    {
      "cell_type": "markdown",
      "metadata": {
        "id": "view-in-github",
        "colab_type": "text"
      },
      "source": [
        "<a href=\"https://colab.research.google.com/github/0xJCarlos/TweetBot/blob/main/TweetBot.ipynb\" target=\"_parent\"><img src=\"https://colab.research.google.com/assets/colab-badge.svg\" alt=\"Open In Colab\"/></a>"
      ]
    },
    {
      "cell_type": "code",
      "source": [
        "import tweepy\n",
        "import pandas as pd\n",
        "import numpy as np\n",
        "import json"
      ],
      "metadata": {
        "id": "q4fXbB7EwyWk"
      },
      "execution_count": 2,
      "outputs": []
    },
    {
      "cell_type": "code",
      "source": [
        "#Paso 0: Instalar la libreria de Twitter \n",
        "!pip install tweepy"
      ],
      "metadata": {
        "colab": {
          "base_uri": "https://localhost:8080/"
        },
        "id": "Yb1-jmEAq7k3",
        "outputId": "780eaf97-23a8-499c-b26e-e077222560fc"
      },
      "execution_count": 1,
      "outputs": [
        {
          "output_type": "stream",
          "name": "stdout",
          "text": [
            "Requirement already satisfied: tweepy in /usr/local/lib/python3.7/dist-packages (3.10.0)\n",
            "Requirement already satisfied: six>=1.10.0 in /usr/local/lib/python3.7/dist-packages (from tweepy) (1.15.0)\n",
            "Requirement already satisfied: requests-oauthlib>=0.7.0 in /usr/local/lib/python3.7/dist-packages (from tweepy) (1.3.0)\n",
            "Requirement already satisfied: requests[socks]>=2.11.1 in /usr/local/lib/python3.7/dist-packages (from tweepy) (2.23.0)\n",
            "Requirement already satisfied: oauthlib>=3.0.0 in /usr/local/lib/python3.7/dist-packages (from requests-oauthlib>=0.7.0->tweepy) (3.1.1)\n",
            "Requirement already satisfied: idna<3,>=2.5 in /usr/local/lib/python3.7/dist-packages (from requests[socks]>=2.11.1->tweepy) (2.10)\n",
            "Requirement already satisfied: certifi>=2017.4.17 in /usr/local/lib/python3.7/dist-packages (from requests[socks]>=2.11.1->tweepy) (2021.10.8)\n",
            "Requirement already satisfied: chardet<4,>=3.0.2 in /usr/local/lib/python3.7/dist-packages (from requests[socks]>=2.11.1->tweepy) (3.0.4)\n",
            "Requirement already satisfied: urllib3!=1.25.0,!=1.25.1,<1.26,>=1.21.1 in /usr/local/lib/python3.7/dist-packages (from requests[socks]>=2.11.1->tweepy) (1.24.3)\n",
            "Requirement already satisfied: PySocks!=1.5.7,>=1.5.6 in /usr/local/lib/python3.7/dist-packages (from requests[socks]>=2.11.1->tweepy) (1.7.1)\n"
          ]
        }
      ]
    },
    {
      "cell_type": "code",
      "source": [
        "#Paso 0.1 Autentificación\n",
        "import tweepy\n",
        "consumer_key = \"0P9DjdpkFKPVfZfpE7qDI7hQb\"\n",
        "consumer_secret = \"RfKuIsLYISTQwlrKefIt7HLajcRdH78zHxp7FyAoVnTAiO03ay\"\n",
        "access_token = \"1194443793317056512-QDGtnRJ5mgEsHno3j6grLAKhmYCBqv\"\n",
        "access_token_secret = \"1mSWwkftAUlHizzITbdermR8xg98Gseg6roxPQCAARQWS\""
      ],
      "metadata": {
        "id": "y8hT-OOArJgT"
      },
      "execution_count": 3,
      "outputs": []
    },
    {
      "cell_type": "code",
      "metadata": {
        "id": "o7m0hcNj4M72"
      },
      "source": [
        "#Paso 0.2 Crear el objeto de la API\n",
        "#Crear el objeto de autentificación\n",
        "auth = tweepy.OAuthHandler(consumer_key, consumer_secret)\n",
        "\n",
        "#Configurar el access token y el secret\n",
        "auth.set_access_token(access_token, access_token_secret)\n",
        "\n",
        "#Crear el objeto de la API pasando la información de autentificación\n",
        "api = tweepy.API(auth,parser=tweepy.parsers.JSONParser())"
      ],
      "execution_count": 4,
      "outputs": []
    },
    {
      "cell_type": "code",
      "metadata": {
        "id": "CTRDDrow4T6F"
      },
      "source": [
        "#Paso 0.3 ver mis tweets\n",
        "\n",
        "public_tweets = api.home_timeline(count=20, tweet_mode='extended')"
      ],
      "execution_count": 79,
      "outputs": []
    },
    {
      "cell_type": "code",
      "source": [
        "for a in public_tweets:\n",
        " if (not a['retweeted']) and ('RT @' not in a['full_text']):\n",
        "    tweet=a[\"full_text\"]\n",
        "    print(tweet)"
      ],
      "metadata": {
        "colab": {
          "base_uri": "https://localhost:8080/"
        },
        "id": "woqwu2I9I-C_",
        "outputId": "2810d065-40bd-4f5d-f522-aed0a94e199d"
      },
      "execution_count": 83,
      "outputs": [
        {
          "output_type": "stream",
          "name": "stdout",
          "text": [
            "You'll have to go easier on them next time, @HiddenXperia 😅\n",
            "#mood lolz https://t.co/rOZhRJFOOj\n",
            "『上野さんは不器用』\n",
            "The Lakers really suck\n",
            "『久保さんは僕を許さない』\n",
            "They know the plays, but do they know the plots? 🧐 https://t.co/QxvdjNZ6Us\n",
            "『古見さんは、コミュ症です。』\n",
            "Wow I’m so lonely this is crazy\n",
            "『〇〇さんは〇〇ない』系のタイトルの作品がリプライされるツイートです。↓どうぞ\n",
            "Don’t forget to stay for both the mid-credits and post-credits scenes in Spider-Man: No Way Home. You don’t want to miss either scenes! https://t.co/wsSzI7Jpnr\n",
            "anyone else use their 1 million youtube subscriber plaque as a mouse pad?\n",
            "https://t.co/nxInENyVug\n",
            "Michael Buble, the king of Christmas songs 🙌🏻\n",
            "Despite a strong effort from @natusvincere, the 3-1 series goes to @FaZeClan! https://t.co/OUGUkVQuQC\n",
            "Y’all not hot?\n",
            "Y’all dm me something that made you happy recently!\n",
            "I am a dwarf and im digging a hole\n"
          ]
        }
      ]
    },
    {
      "cell_type": "code",
      "source": [
        "#PASO 1: getTweets \n",
        "import numpy as np\n",
        "\n",
        "def getTweets(account):\n",
        "  tweetCount = 10\n",
        "  results = api.user_timeline(id = account, count=tweetCount, tweet_mode='extended')\n",
        "  #for tweet in results:\n",
        "    #print(tweet.text)\n",
        "\n",
        "#Test Loop\n",
        "cuentas = [\"IGN\",\"kotaku\",\"polygon\"]\n",
        "for cuenta in cuentas:\n",
        "  getTweets(cuenta)"
      ],
      "metadata": {
        "id": "i7yQ4kj7uMMi"
      },
      "execution_count": 11,
      "outputs": []
    },
    {
      "cell_type": "code",
      "source": [
        "#Paso 2: Función para colocar los tweets en un archivo de texto\n",
        "lista2 = []\n",
        "def fetchTweet(tuits):\n",
        "  for each_json_tweet in tuits:\n",
        "     if (not each_json_tweet['retweeted']) and ('RT @' not in each_json_tweet['full_text']):\n",
        "      lista2.append(each_json_tweet)\n",
        "\n",
        "  with open('tweets2.txt','w') as file:\n",
        "    file.write(json.dumps(lista2, indent=4))"
      ],
      "metadata": {
        "id": "z1_ejrMZ1LLv"
      },
      "execution_count": 96,
      "outputs": []
    },
    {
      "cell_type": "code",
      "source": [
        "#Paso 3: Colocar los tweets dentro del archivo\n",
        "igntweets = api.user_timeline('IGN',count=200, tweet_mode='extended')\n",
        "kotakutweets = api.user_timeline('kotaku',count=200, tweet_mode='extended')\n",
        "polygontweets = api.user_timeline('polygon',count=200, tweet_mode='extended')\n",
        "engadgettweets = api.user_timeline('engadgetgaming', count=200, tweet_mode='extended')\n",
        "\n",
        "tweets=[igntweets,kotakutweets,polygontweets,engadgettweets]\n",
        "\n",
        "for tuit in tweets:\n",
        "  fetchTweet(tuit)"
      ],
      "metadata": {
        "id": "ZsSDfGu22DrM"
      },
      "execution_count": 97,
      "outputs": []
    },
    {
      "cell_type": "code",
      "source": [
        "#Paso 4 Guardar los tweets en un JSON\n",
        "lista_demo = []\n",
        "with open('tweets2.txt',encoding='utf-8') as json_file:\n",
        "  all_data = json.load(json_file)\n",
        "  for each_dictionary in all_data:\n",
        "    tweet_id = each_dictionary['id']\n",
        "    full_text = each_dictionary['full_text']\n",
        "\n",
        "    lista_demo.append({\n",
        "        'tweet_id':str(tweet_id),\n",
        "        'full_text': str(full_text)\n",
        "                       })\n",
        "    \n",
        "    tweetsColectivos = pd.DataFrame(lista_demo, columns=['tweet_id', 'full_text'])"
      ],
      "metadata": {
        "id": "laVQXCE-2agp"
      },
      "execution_count": 98,
      "outputs": []
    },
    {
      "cell_type": "code",
      "source": [
        "print(tweetsColectivos)"
      ],
      "metadata": {
        "colab": {
          "base_uri": "https://localhost:8080/"
        },
        "id": "9ChMkAlz3Bn1",
        "outputId": "71afe1ed-c060-4931-adcb-b69fc096ace1"
      },
      "execution_count": 99,
      "outputs": [
        {
          "output_type": "stream",
          "name": "stdout",
          "text": [
            "                tweet_id                                          full_text\n",
            "0    1472046723841282051  Don’t forget to stay for both the mid-credits ...\n",
            "1    1472035391221997568  In a new interview with IGN, Amazon Games deve...\n",
            "2    1472031616876912641  After delaying the Steam Deck from December 20...\n",
            "3    1472024066873831431  While Spider-Man: No Way Home juggled most of ...\n",
            "4    1472020292230860800  The Tender Bar is a coming-of-age dramedy that...\n",
            "..                   ...                                                ...\n",
            "777  1455844526929719306  Google Stadia adds free trials for 'Control' a...\n",
            "778  1455651089915727873  Blizzard's first female leader, Jen Oneal, ste...\n",
            "779  1455646577729622016  'Overwatch 2' and 'Diablo IV' have been delaye...\n",
            "780  1455599035411320837  'Harry Potter: Wizards Unite' is shutting down...\n",
            "781  1455591687204573189  'Skyrim' is getting the board game treatment h...\n",
            "\n",
            "[782 rows x 2 columns]\n"
          ]
        }
      ]
    }
  ]
}