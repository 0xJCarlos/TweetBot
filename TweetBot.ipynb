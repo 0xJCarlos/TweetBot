{
  "nbformat": 4,
  "nbformat_minor": 0,
  "metadata": {
    "colab": {
      "name": "TweetBot.ipynb",
      "provenance": [],
      "collapsed_sections": [],
      "authorship_tag": "ABX9TyNeiRI6zGYrowXMxp6yqVwi",
      "include_colab_link": true
    },
    "kernelspec": {
      "name": "python3",
      "display_name": "Python 3"
    },
    "language_info": {
      "name": "python"
    }
  },
  "cells": [
    {
      "cell_type": "markdown",
      "metadata": {
        "id": "view-in-github",
        "colab_type": "text"
      },
      "source": [
        "<a href=\"https://colab.research.google.com/github/0xJCarlos/TweetBot/blob/main/TweetBot.ipynb\" target=\"_parent\"><img src=\"https://colab.research.google.com/assets/colab-badge.svg\" alt=\"Open In Colab\"/></a>"
      ]
    },
    {
      "cell_type": "code",
      "source": [
        "import tweepy\n",
        "import pandas as pd\n",
        "import numpy as np\n",
        "import json"
      ],
      "metadata": {
        "id": "q4fXbB7EwyWk"
      },
      "execution_count": 2,
      "outputs": []
    },
    {
      "cell_type": "code",
      "source": [
        "#Paso 0: Instalar la libreria de Twitter \n",
        "!pip install tweepy"
      ],
      "metadata": {
        "colab": {
          "base_uri": "https://localhost:8080/"
        },
        "id": "Yb1-jmEAq7k3",
        "outputId": "9c67782b-67a0-4d20-a2ee-910f6a5f906c"
      },
      "execution_count": 1,
      "outputs": [
        {
          "output_type": "stream",
          "name": "stdout",
          "text": [
            "Requirement already satisfied: tweepy in /usr/local/lib/python3.7/dist-packages (3.10.0)\n",
            "Requirement already satisfied: requests-oauthlib>=0.7.0 in /usr/local/lib/python3.7/dist-packages (from tweepy) (1.3.0)\n",
            "Requirement already satisfied: requests[socks]>=2.11.1 in /usr/local/lib/python3.7/dist-packages (from tweepy) (2.23.0)\n",
            "Requirement already satisfied: six>=1.10.0 in /usr/local/lib/python3.7/dist-packages (from tweepy) (1.15.0)\n",
            "Requirement already satisfied: oauthlib>=3.0.0 in /usr/local/lib/python3.7/dist-packages (from requests-oauthlib>=0.7.0->tweepy) (3.1.1)\n",
            "Requirement already satisfied: urllib3!=1.25.0,!=1.25.1,<1.26,>=1.21.1 in /usr/local/lib/python3.7/dist-packages (from requests[socks]>=2.11.1->tweepy) (1.24.3)\n",
            "Requirement already satisfied: chardet<4,>=3.0.2 in /usr/local/lib/python3.7/dist-packages (from requests[socks]>=2.11.1->tweepy) (3.0.4)\n",
            "Requirement already satisfied: certifi>=2017.4.17 in /usr/local/lib/python3.7/dist-packages (from requests[socks]>=2.11.1->tweepy) (2021.10.8)\n",
            "Requirement already satisfied: idna<3,>=2.5 in /usr/local/lib/python3.7/dist-packages (from requests[socks]>=2.11.1->tweepy) (2.10)\n",
            "Requirement already satisfied: PySocks!=1.5.7,>=1.5.6 in /usr/local/lib/python3.7/dist-packages (from requests[socks]>=2.11.1->tweepy) (1.7.1)\n"
          ]
        }
      ]
    },
    {
      "cell_type": "code",
      "source": [
        "#Paso 0.1 Autentificación\n",
        "import tweepy\n",
        "consumer_key = \"0P9DjdpkFKPVfZfpE7qDI7hQb\"\n",
        "consumer_secret = \"RfKuIsLYISTQwlrKefIt7HLajcRdH78zHxp7FyAoVnTAiO03ay\"\n",
        "access_token = \"1194443793317056512-QDGtnRJ5mgEsHno3j6grLAKhmYCBqv\"\n",
        "access_token_secret = \"1mSWwkftAUlHizzITbdermR8xg98Gseg6roxPQCAARQWS\""
      ],
      "metadata": {
        "id": "y8hT-OOArJgT"
      },
      "execution_count": 3,
      "outputs": []
    },
    {
      "cell_type": "code",
      "metadata": {
        "id": "o7m0hcNj4M72"
      },
      "source": [
        "#Paso 0.2 Crear el objeto de la API\n",
        "#Crear el objeto de autentificación\n",
        "auth = tweepy.OAuthHandler(consumer_key, consumer_secret)\n",
        "\n",
        "#Configurar el access token y el secret\n",
        "auth.set_access_token(access_token, access_token_secret)\n",
        "\n",
        "#Crear el objeto de la API pasando la información de autentificación\n",
        "api = tweepy.API(auth,parser=tweepy.parsers.JSONParser())"
      ],
      "execution_count": 4,
      "outputs": []
    },
    {
      "cell_type": "code",
      "metadata": {
        "id": "CTRDDrow4T6F"
      },
      "source": [
        "#Paso 0.3 ver mis tweets\n",
        "\n",
        "public_tweets = api.home_timeline(count=20, tweet_mode='extended')"
      ],
      "execution_count": null,
      "outputs": []
    },
    {
      "cell_type": "code",
      "source": [
        "for a in public_tweets:\n",
        " if (not a['retweeted']) and ('RT @' not in a['full_text']):\n",
        "    tweet=a[\"full_text\"]\n",
        "    print(tweet)"
      ],
      "metadata": {
        "colab": {
          "base_uri": "https://localhost:8080/"
        },
        "id": "woqwu2I9I-C_",
        "outputId": "11d4f921-5bc2-42ce-d8dc-c27b70c3e1cf"
      },
      "execution_count": null,
      "outputs": [
        {
          "output_type": "stream",
          "name": "stdout",
          "text": [
            "Insanity. https://t.co/fzreJBbWbv\n",
            "Don't be shy - stop the @Spacestation Spartan for your complimentary fist bump today! 📸👊 https://t.co/jW07DUBZSd\n",
            "VENGAAAAA CHAAAAAAAAG! https://t.co/9eaLx1ilt1\n",
            "The cold and rain ain’t gonna stop this wedding https://t.co/yyNPXxGcNS\n",
            "And it’s only Saturday afternoon\n",
            "Venue is electric\n",
            "merry christmas 🎄 https://t.co/P1WSljeAjz\n",
            "Who do you have your money on? 👀 https://t.co/h1q5qSGuhP\n",
            "A HUGE match is getting underway as we head into @OpTic vs. @Sentinels in Round 2 of the Winners Bracket!\n",
            "\n",
            "https://t.co/e5eEleh4IW | https://t.co/zEAg7S6F2W https://t.co/S6FD0TvESa\n",
            "my eyelash curler just broke what\n",
            "https://t.co/sYGYbeb57s\n",
            "apparently bts didn’t even have a concert in nyc during 2017, which honestly makes her struggle all the worse. it was a wild thing to post but an even stranger thing to lie about\n",
            "OTV'S HOLIDAY CHARITY VALORANT INVITATIONAL IS LIVE ☃🎉\n",
            "\n",
            "with the OG squad, host @SeltzerPlease and casters @ddkesports &amp; @Vansilli 😄\n",
            "\n",
            "Join us here ➡ https://t.co/RnNWF0fk56 https://t.co/8TSu1CY6QG\n",
            "Feels good to be a Halo fan right now\n",
            "\n",
            "https://t.co/jTumMMy2SR\n"
          ]
        }
      ]
    },
    {
      "cell_type": "code",
      "source": [
        "#PASO 1: getTweets \n",
        "import numpy as np\n",
        "\n",
        "def getTweets(account):\n",
        "  tweetCount = 10\n",
        "  results = api.user_timeline(id = account, count=tweetCount, tweet_mode='extended')\n",
        "  #for tweet in results:\n",
        "    #print(tweet.text)\n",
        "\n",
        "#Test Loop\n",
        "cuentas = [\"IGN\",\"kotaku\",\"polygon\"]\n",
        "for cuenta in cuentas:\n",
        "  getTweets(cuenta)"
      ],
      "metadata": {
        "id": "i7yQ4kj7uMMi"
      },
      "execution_count": 5,
      "outputs": []
    },
    {
      "cell_type": "code",
      "source": [
        "#Paso 2: Función para colocar los tweets en un archivo de texto\n",
        "lista2 = []\n",
        "def fetchTweet(tuits):\n",
        "  for each_json_tweet in tuits:\n",
        "     if (not each_json_tweet['retweeted']) and ('RT @' not in each_json_tweet['full_text']):\n",
        "      muchotexto= each_json_tweet['full_text']\n",
        "      lista2.append(muchotexto)\n",
        "      \n",
        "\n",
        "  with open('tweets2.txt','w') as file:\n",
        "    file.write(json.dumps(lista2, indent=4))"
      ],
      "metadata": {
        "id": "z1_ejrMZ1LLv"
      },
      "execution_count": 6,
      "outputs": []
    },
    {
      "cell_type": "code",
      "source": [
        "#Paso 3: Colocar los tweets dentro del archivo\n",
        "igntweets = api.user_timeline('IGN',count=200, tweet_mode='extended')\n",
        "kotakutweets = api.user_timeline('kotaku',count=200, tweet_mode='extended')\n",
        "polygontweets = api.user_timeline('polygon',count=200, tweet_mode='extended')\n",
        "engadgettweets = api.user_timeline('engadgetgaming', count=200, tweet_mode='extended')\n",
        "eurogamertweets = api.user_timeline('eurogamer', count=200, tweet_mode='extended')\n",
        "gamesindustrytweets = api.user_timeline('GIBiz', count=200, tweet_mode='extended')\n",
        "gamedevtweets = api.user_timeline('gamedevdotcom', count=200, tweet_mode='extended')\n",
        "destructoidtweets = api.user_timeline('destructoid', count=200, tweet_mode='extended')\n",
        "vgctweets = api.user_timeline('VGC_News', count=200, tweet_mode='extended')\n",
        "vg247tweets = api.user_timeline('VG247', count=200, tweet_mode='extended')\n",
        "gamesbeattweets = api.user_timeline('GamesBeat', count=200, tweet_mode='extended')\n",
        "rockpapershottweets = api.user_timeline('rockpapershot', count=200, tweet_mode='extended')\n",
        "\n",
        "tweets=[igntweets,kotakutweets,polygontweets,engadgettweets,eurogamertweets,gamesindustrytweets,gamedevtweets,destructoidtweets,vgctweets,vg247tweets,gamesbeattweets,rockpapershottweets]\n",
        "\n",
        "for tuit in tweets:\n",
        "  fetchTweet(tuit)"
      ],
      "metadata": {
        "id": "ZsSDfGu22DrM"
      },
      "execution_count": 7,
      "outputs": []
    },
    {
      "cell_type": "code",
      "source": [
        "#Paso 4 Guardar los tweets en un JSON\n",
        "lista_demo = []\n",
        "with open('tweets2.txt',encoding='utf-8') as json_file:\n",
        "  all_data = json.load(json_file)\n",
        "  for each_dictionary in all_data:\n",
        "    full_text = each_dictionary\n",
        "\n",
        "    lista_demo.append({'full_text': str(full_text)})\n",
        "    \n",
        "    tweetsColectivos = pd.DataFrame(lista_demo, columns=['full_text'])"
      ],
      "metadata": {
        "id": "laVQXCE-2agp"
      },
      "execution_count": 8,
      "outputs": []
    },
    {
      "cell_type": "code",
      "source": [
        "tweetsColectivos"
      ],
      "metadata": {
        "colab": {
          "base_uri": "https://localhost:8080/",
          "height": 423
        },
        "id": "9ChMkAlz3Bn1",
        "outputId": "97f02f47-0534-4ff3-d04e-9ce2d5f4a116"
      },
      "execution_count": 9,
      "outputs": [
        {
          "output_type": "execute_result",
          "data": {
            "text/html": [
              "\n",
              "  <div id=\"df-8b53d5a2-ed8e-4b03-ad9d-e2dab69b044e\">\n",
              "    <div class=\"colab-df-container\">\n",
              "      <div>\n",
              "<style scoped>\n",
              "    .dataframe tbody tr th:only-of-type {\n",
              "        vertical-align: middle;\n",
              "    }\n",
              "\n",
              "    .dataframe tbody tr th {\n",
              "        vertical-align: top;\n",
              "    }\n",
              "\n",
              "    .dataframe thead th {\n",
              "        text-align: right;\n",
              "    }\n",
              "</style>\n",
              "<table border=\"1\" class=\"dataframe\">\n",
              "  <thead>\n",
              "    <tr style=\"text-align: right;\">\n",
              "      <th></th>\n",
              "      <th>full_text</th>\n",
              "    </tr>\n",
              "  </thead>\n",
              "  <tbody>\n",
              "    <tr>\n",
              "      <th>0</th>\n",
              "      <td>2021 gave us a ton of new experiences across t...</td>\n",
              "    </tr>\n",
              "    <tr>\n",
              "      <th>1</th>\n",
              "      <td>Check out this Falling Frontier campaign gamep...</td>\n",
              "    </tr>\n",
              "    <tr>\n",
              "      <th>2</th>\n",
              "      <td>Those who redeemed Final Fantasy VII Remake on...</td>\n",
              "    </tr>\n",
              "    <tr>\n",
              "      <th>3</th>\n",
              "      <td>ICYMI: The Gunk is a simple little platforming...</td>\n",
              "    </tr>\n",
              "    <tr>\n",
              "      <th>4</th>\n",
              "      <td>Thanks to the ongoing global chip shortage, Mi...</td>\n",
              "    </tr>\n",
              "    <tr>\n",
              "      <th>...</th>\n",
              "      <td>...</td>\n",
              "    </tr>\n",
              "    <tr>\n",
              "      <th>2299</th>\n",
              "      <td>Cyber Monday makes the Hyper 212 Evo V2 CPU co...</td>\n",
              "    </tr>\n",
              "    <tr>\n",
              "      <th>2300</th>\n",
              "      <td>There's a chunky Cyber Monday saving available...</td>\n",
              "    </tr>\n",
              "    <tr>\n",
              "      <th>2301</th>\n",
              "      <td>Cyber Monday kicks off with this Ryzen 5000-re...</td>\n",
              "    </tr>\n",
              "    <tr>\n",
              "      <th>2302</th>\n",
              "      <td>Just kidding: the Black Friday deals will neve...</td>\n",
              "    </tr>\n",
              "    <tr>\n",
              "      <th>2303</th>\n",
              "      <td>...and the NXZT H710 PC case is available, in ...</td>\n",
              "    </tr>\n",
              "  </tbody>\n",
              "</table>\n",
              "<p>2304 rows × 1 columns</p>\n",
              "</div>\n",
              "      <button class=\"colab-df-convert\" onclick=\"convertToInteractive('df-8b53d5a2-ed8e-4b03-ad9d-e2dab69b044e')\"\n",
              "              title=\"Convert this dataframe to an interactive table.\"\n",
              "              style=\"display:none;\">\n",
              "        \n",
              "  <svg xmlns=\"http://www.w3.org/2000/svg\" height=\"24px\"viewBox=\"0 0 24 24\"\n",
              "       width=\"24px\">\n",
              "    <path d=\"M0 0h24v24H0V0z\" fill=\"none\"/>\n",
              "    <path d=\"M18.56 5.44l.94 2.06.94-2.06 2.06-.94-2.06-.94-.94-2.06-.94 2.06-2.06.94zm-11 1L8.5 8.5l.94-2.06 2.06-.94-2.06-.94L8.5 2.5l-.94 2.06-2.06.94zm10 10l.94 2.06.94-2.06 2.06-.94-2.06-.94-.94-2.06-.94 2.06-2.06.94z\"/><path d=\"M17.41 7.96l-1.37-1.37c-.4-.4-.92-.59-1.43-.59-.52 0-1.04.2-1.43.59L10.3 9.45l-7.72 7.72c-.78.78-.78 2.05 0 2.83L4 21.41c.39.39.9.59 1.41.59.51 0 1.02-.2 1.41-.59l7.78-7.78 2.81-2.81c.8-.78.8-2.07 0-2.86zM5.41 20L4 18.59l7.72-7.72 1.47 1.35L5.41 20z\"/>\n",
              "  </svg>\n",
              "      </button>\n",
              "      \n",
              "  <style>\n",
              "    .colab-df-container {\n",
              "      display:flex;\n",
              "      flex-wrap:wrap;\n",
              "      gap: 12px;\n",
              "    }\n",
              "\n",
              "    .colab-df-convert {\n",
              "      background-color: #E8F0FE;\n",
              "      border: none;\n",
              "      border-radius: 50%;\n",
              "      cursor: pointer;\n",
              "      display: none;\n",
              "      fill: #1967D2;\n",
              "      height: 32px;\n",
              "      padding: 0 0 0 0;\n",
              "      width: 32px;\n",
              "    }\n",
              "\n",
              "    .colab-df-convert:hover {\n",
              "      background-color: #E2EBFA;\n",
              "      box-shadow: 0px 1px 2px rgba(60, 64, 67, 0.3), 0px 1px 3px 1px rgba(60, 64, 67, 0.15);\n",
              "      fill: #174EA6;\n",
              "    }\n",
              "\n",
              "    [theme=dark] .colab-df-convert {\n",
              "      background-color: #3B4455;\n",
              "      fill: #D2E3FC;\n",
              "    }\n",
              "\n",
              "    [theme=dark] .colab-df-convert:hover {\n",
              "      background-color: #434B5C;\n",
              "      box-shadow: 0px 1px 3px 1px rgba(0, 0, 0, 0.15);\n",
              "      filter: drop-shadow(0px 1px 2px rgba(0, 0, 0, 0.3));\n",
              "      fill: #FFFFFF;\n",
              "    }\n",
              "  </style>\n",
              "\n",
              "      <script>\n",
              "        const buttonEl =\n",
              "          document.querySelector('#df-8b53d5a2-ed8e-4b03-ad9d-e2dab69b044e button.colab-df-convert');\n",
              "        buttonEl.style.display =\n",
              "          google.colab.kernel.accessAllowed ? 'block' : 'none';\n",
              "\n",
              "        async function convertToInteractive(key) {\n",
              "          const element = document.querySelector('#df-8b53d5a2-ed8e-4b03-ad9d-e2dab69b044e');\n",
              "          const dataTable =\n",
              "            await google.colab.kernel.invokeFunction('convertToInteractive',\n",
              "                                                     [key], {});\n",
              "          if (!dataTable) return;\n",
              "\n",
              "          const docLinkHtml = 'Like what you see? Visit the ' +\n",
              "            '<a target=\"_blank\" href=https://colab.research.google.com/notebooks/data_table.ipynb>data table notebook</a>'\n",
              "            + ' to learn more about interactive tables.';\n",
              "          element.innerHTML = '';\n",
              "          dataTable['output_type'] = 'display_data';\n",
              "          await google.colab.output.renderOutput(dataTable, element);\n",
              "          const docLink = document.createElement('div');\n",
              "          docLink.innerHTML = docLinkHtml;\n",
              "          element.appendChild(docLink);\n",
              "        }\n",
              "      </script>\n",
              "    </div>\n",
              "  </div>\n",
              "  "
            ],
            "text/plain": [
              "                                              full_text\n",
              "0     2021 gave us a ton of new experiences across t...\n",
              "1     Check out this Falling Frontier campaign gamep...\n",
              "2     Those who redeemed Final Fantasy VII Remake on...\n",
              "3     ICYMI: The Gunk is a simple little platforming...\n",
              "4     Thanks to the ongoing global chip shortage, Mi...\n",
              "...                                                 ...\n",
              "2299  Cyber Monday makes the Hyper 212 Evo V2 CPU co...\n",
              "2300  There's a chunky Cyber Monday saving available...\n",
              "2301  Cyber Monday kicks off with this Ryzen 5000-re...\n",
              "2302  Just kidding: the Black Friday deals will neve...\n",
              "2303  ...and the NXZT H710 PC case is available, in ...\n",
              "\n",
              "[2304 rows x 1 columns]"
            ]
          },
          "metadata": {},
          "execution_count": 9
        }
      ]
    },
    {
      "cell_type": "code",
      "source": [
        "#Paso 5, Guardar DF en archivo local\n",
        "tweetsColectivos.to_csv('tweetscompletos.csv')"
      ],
      "metadata": {
        "id": "nAWBsx8sjn6A"
      },
      "execution_count": 10,
      "outputs": []
    },
    {
      "cell_type": "code",
      "source": [
        "#Paso 6, remover columna de indices \n",
        "\n",
        "df = pd.read_csv('/content/tweetscompletos.csv')\n"
      ],
      "metadata": {
        "id": "ZYBZNO4H5tNs"
      },
      "execution_count": 15,
      "outputs": []
    },
    {
      "cell_type": "code",
      "source": [
        "\n",
        "df = df.drop(df.columns[0], axis=1)\n"
      ],
      "metadata": {
        "id": "StswlIdH_u6O"
      },
      "execution_count": 17,
      "outputs": []
    },
    {
      "cell_type": "code",
      "source": [
        "import re"
      ],
      "metadata": {
        "id": "FlBbDBUjJSf5"
      },
      "execution_count": 13,
      "outputs": []
    },
    {
      "cell_type": "code",
      "source": [
        "#Paso 7 Borrar links\n",
        "\n",
        "for tuit in df[\"full_text\"]:\n",
        "      df[\"full_text\"] = re.sub(r\"http\\S+\", \"\", tuit)\n"
      ],
      "metadata": {
        "id": "MTFDEG-GGcUl"
      },
      "execution_count": 14,
      "outputs": []
    },
    {
      "cell_type": "code",
      "source": [
        "df['full_text'] = df['full_text'].apply(lambda x: re.split('https:\\/\\/.*', str(x))[0])\n",
        "df\n"
      ],
      "metadata": {
        "colab": {
          "base_uri": "https://localhost:8080/",
          "height": 423
        },
        "id": "A2h73E_mK2yv",
        "outputId": "766432bb-1097-49b0-d752-99327097fb5e"
      },
      "execution_count": 18,
      "outputs": [
        {
          "output_type": "execute_result",
          "data": {
            "text/html": [
              "\n",
              "  <div id=\"df-a479b8cc-ca0c-4a6c-8872-73e092e48892\">\n",
              "    <div class=\"colab-df-container\">\n",
              "      <div>\n",
              "<style scoped>\n",
              "    .dataframe tbody tr th:only-of-type {\n",
              "        vertical-align: middle;\n",
              "    }\n",
              "\n",
              "    .dataframe tbody tr th {\n",
              "        vertical-align: top;\n",
              "    }\n",
              "\n",
              "    .dataframe thead th {\n",
              "        text-align: right;\n",
              "    }\n",
              "</style>\n",
              "<table border=\"1\" class=\"dataframe\">\n",
              "  <thead>\n",
              "    <tr style=\"text-align: right;\">\n",
              "      <th></th>\n",
              "      <th>full_text</th>\n",
              "    </tr>\n",
              "  </thead>\n",
              "  <tbody>\n",
              "    <tr>\n",
              "      <th>0</th>\n",
              "      <td>2021 gave us a ton of new experiences across t...</td>\n",
              "    </tr>\n",
              "    <tr>\n",
              "      <th>1</th>\n",
              "      <td>Check out this Falling Frontier campaign gamep...</td>\n",
              "    </tr>\n",
              "    <tr>\n",
              "      <th>2</th>\n",
              "      <td>Those who redeemed Final Fantasy VII Remake on...</td>\n",
              "    </tr>\n",
              "    <tr>\n",
              "      <th>3</th>\n",
              "      <td>ICYMI: The Gunk is a simple little platforming...</td>\n",
              "    </tr>\n",
              "    <tr>\n",
              "      <th>4</th>\n",
              "      <td>Thanks to the ongoing global chip shortage, Mi...</td>\n",
              "    </tr>\n",
              "    <tr>\n",
              "      <th>...</th>\n",
              "      <td>...</td>\n",
              "    </tr>\n",
              "    <tr>\n",
              "      <th>2299</th>\n",
              "      <td>Cyber Monday makes the Hyper 212 Evo V2 CPU co...</td>\n",
              "    </tr>\n",
              "    <tr>\n",
              "      <th>2300</th>\n",
              "      <td>There's a chunky Cyber Monday saving available...</td>\n",
              "    </tr>\n",
              "    <tr>\n",
              "      <th>2301</th>\n",
              "      <td>Cyber Monday kicks off with this Ryzen 5000-re...</td>\n",
              "    </tr>\n",
              "    <tr>\n",
              "      <th>2302</th>\n",
              "      <td>Just kidding: the Black Friday deals will neve...</td>\n",
              "    </tr>\n",
              "    <tr>\n",
              "      <th>2303</th>\n",
              "      <td>...and the NXZT H710 PC case is available, in ...</td>\n",
              "    </tr>\n",
              "  </tbody>\n",
              "</table>\n",
              "<p>2304 rows × 1 columns</p>\n",
              "</div>\n",
              "      <button class=\"colab-df-convert\" onclick=\"convertToInteractive('df-a479b8cc-ca0c-4a6c-8872-73e092e48892')\"\n",
              "              title=\"Convert this dataframe to an interactive table.\"\n",
              "              style=\"display:none;\">\n",
              "        \n",
              "  <svg xmlns=\"http://www.w3.org/2000/svg\" height=\"24px\"viewBox=\"0 0 24 24\"\n",
              "       width=\"24px\">\n",
              "    <path d=\"M0 0h24v24H0V0z\" fill=\"none\"/>\n",
              "    <path d=\"M18.56 5.44l.94 2.06.94-2.06 2.06-.94-2.06-.94-.94-2.06-.94 2.06-2.06.94zm-11 1L8.5 8.5l.94-2.06 2.06-.94-2.06-.94L8.5 2.5l-.94 2.06-2.06.94zm10 10l.94 2.06.94-2.06 2.06-.94-2.06-.94-.94-2.06-.94 2.06-2.06.94z\"/><path d=\"M17.41 7.96l-1.37-1.37c-.4-.4-.92-.59-1.43-.59-.52 0-1.04.2-1.43.59L10.3 9.45l-7.72 7.72c-.78.78-.78 2.05 0 2.83L4 21.41c.39.39.9.59 1.41.59.51 0 1.02-.2 1.41-.59l7.78-7.78 2.81-2.81c.8-.78.8-2.07 0-2.86zM5.41 20L4 18.59l7.72-7.72 1.47 1.35L5.41 20z\"/>\n",
              "  </svg>\n",
              "      </button>\n",
              "      \n",
              "  <style>\n",
              "    .colab-df-container {\n",
              "      display:flex;\n",
              "      flex-wrap:wrap;\n",
              "      gap: 12px;\n",
              "    }\n",
              "\n",
              "    .colab-df-convert {\n",
              "      background-color: #E8F0FE;\n",
              "      border: none;\n",
              "      border-radius: 50%;\n",
              "      cursor: pointer;\n",
              "      display: none;\n",
              "      fill: #1967D2;\n",
              "      height: 32px;\n",
              "      padding: 0 0 0 0;\n",
              "      width: 32px;\n",
              "    }\n",
              "\n",
              "    .colab-df-convert:hover {\n",
              "      background-color: #E2EBFA;\n",
              "      box-shadow: 0px 1px 2px rgba(60, 64, 67, 0.3), 0px 1px 3px 1px rgba(60, 64, 67, 0.15);\n",
              "      fill: #174EA6;\n",
              "    }\n",
              "\n",
              "    [theme=dark] .colab-df-convert {\n",
              "      background-color: #3B4455;\n",
              "      fill: #D2E3FC;\n",
              "    }\n",
              "\n",
              "    [theme=dark] .colab-df-convert:hover {\n",
              "      background-color: #434B5C;\n",
              "      box-shadow: 0px 1px 3px 1px rgba(0, 0, 0, 0.15);\n",
              "      filter: drop-shadow(0px 1px 2px rgba(0, 0, 0, 0.3));\n",
              "      fill: #FFFFFF;\n",
              "    }\n",
              "  </style>\n",
              "\n",
              "      <script>\n",
              "        const buttonEl =\n",
              "          document.querySelector('#df-a479b8cc-ca0c-4a6c-8872-73e092e48892 button.colab-df-convert');\n",
              "        buttonEl.style.display =\n",
              "          google.colab.kernel.accessAllowed ? 'block' : 'none';\n",
              "\n",
              "        async function convertToInteractive(key) {\n",
              "          const element = document.querySelector('#df-a479b8cc-ca0c-4a6c-8872-73e092e48892');\n",
              "          const dataTable =\n",
              "            await google.colab.kernel.invokeFunction('convertToInteractive',\n",
              "                                                     [key], {});\n",
              "          if (!dataTable) return;\n",
              "\n",
              "          const docLinkHtml = 'Like what you see? Visit the ' +\n",
              "            '<a target=\"_blank\" href=https://colab.research.google.com/notebooks/data_table.ipynb>data table notebook</a>'\n",
              "            + ' to learn more about interactive tables.';\n",
              "          element.innerHTML = '';\n",
              "          dataTable['output_type'] = 'display_data';\n",
              "          await google.colab.output.renderOutput(dataTable, element);\n",
              "          const docLink = document.createElement('div');\n",
              "          docLink.innerHTML = docLinkHtml;\n",
              "          element.appendChild(docLink);\n",
              "        }\n",
              "      </script>\n",
              "    </div>\n",
              "  </div>\n",
              "  "
            ],
            "text/plain": [
              "                                              full_text\n",
              "0     2021 gave us a ton of new experiences across t...\n",
              "1     Check out this Falling Frontier campaign gamep...\n",
              "2     Those who redeemed Final Fantasy VII Remake on...\n",
              "3     ICYMI: The Gunk is a simple little platforming...\n",
              "4     Thanks to the ongoing global chip shortage, Mi...\n",
              "...                                                 ...\n",
              "2299  Cyber Monday makes the Hyper 212 Evo V2 CPU co...\n",
              "2300  There's a chunky Cyber Monday saving available...\n",
              "2301  Cyber Monday kicks off with this Ryzen 5000-re...\n",
              "2302  Just kidding: the Black Friday deals will neve...\n",
              "2303  ...and the NXZT H710 PC case is available, in ...\n",
              "\n",
              "[2304 rows x 1 columns]"
            ]
          },
          "metadata": {},
          "execution_count": 18
        }
      ]
    },
    {
      "cell_type": "code",
      "source": [
        "tweetslimpios = df.to_csv(\"tweetslimpios.csv\")"
      ],
      "metadata": {
        "id": "j5ncS7P_TnL2"
      },
      "execution_count": 19,
      "outputs": []
    }
  ]
}