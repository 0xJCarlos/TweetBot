{
  "nbformat": 4,
  "nbformat_minor": 0,
  "metadata": {
    "colab": {
      "name": "TweetBot.ipynb",
      "provenance": [],
      "collapsed_sections": [],
      "authorship_tag": "ABX9TyPbrAE4CrJhCUMzr5rV8fnc",
      "include_colab_link": true
    },
    "kernelspec": {
      "name": "python3",
      "display_name": "Python 3"
    },
    "language_info": {
      "name": "python"
    }
  },
  "cells": [
    {
      "cell_type": "markdown",
      "metadata": {
        "id": "view-in-github",
        "colab_type": "text"
      },
      "source": [
        "<a href=\"https://colab.research.google.com/github/0xJCarlos/TweetBot/blob/main/TweetBot.ipynb\" target=\"_parent\"><img src=\"https://colab.research.google.com/assets/colab-badge.svg\" alt=\"Open In Colab\"/></a>"
      ]
    },
    {
      "cell_type": "code",
      "source": [
        "import tweepy\n",
        "import pandas as pd\n",
        "import numpy as np\n",
        "import json"
      ],
      "metadata": {
        "id": "q4fXbB7EwyWk"
      },
      "execution_count": null,
      "outputs": []
    },
    {
      "cell_type": "code",
      "source": [
        "#Paso 0: Instalar la libreria de Twitter \n",
        "!pip install tweepy"
      ],
      "metadata": {
        "colab": {
          "base_uri": "https://localhost:8080/"
        },
        "id": "Yb1-jmEAq7k3",
        "outputId": "1c240b0f-7719-4b11-b432-2ecb62c9a781"
      },
      "execution_count": null,
      "outputs": [
        {
          "output_type": "stream",
          "name": "stdout",
          "text": [
            "Requirement already satisfied: tweepy in /usr/local/lib/python3.7/dist-packages (3.10.0)\n",
            "Requirement already satisfied: six>=1.10.0 in /usr/local/lib/python3.7/dist-packages (from tweepy) (1.15.0)\n",
            "Requirement already satisfied: requests-oauthlib>=0.7.0 in /usr/local/lib/python3.7/dist-packages (from tweepy) (1.3.0)\n",
            "Requirement already satisfied: requests[socks]>=2.11.1 in /usr/local/lib/python3.7/dist-packages (from tweepy) (2.23.0)\n",
            "Requirement already satisfied: oauthlib>=3.0.0 in /usr/local/lib/python3.7/dist-packages (from requests-oauthlib>=0.7.0->tweepy) (3.1.1)\n",
            "Requirement already satisfied: idna<3,>=2.5 in /usr/local/lib/python3.7/dist-packages (from requests[socks]>=2.11.1->tweepy) (2.10)\n",
            "Requirement already satisfied: certifi>=2017.4.17 in /usr/local/lib/python3.7/dist-packages (from requests[socks]>=2.11.1->tweepy) (2021.10.8)\n",
            "Requirement already satisfied: chardet<4,>=3.0.2 in /usr/local/lib/python3.7/dist-packages (from requests[socks]>=2.11.1->tweepy) (3.0.4)\n",
            "Requirement already satisfied: urllib3!=1.25.0,!=1.25.1,<1.26,>=1.21.1 in /usr/local/lib/python3.7/dist-packages (from requests[socks]>=2.11.1->tweepy) (1.24.3)\n",
            "Requirement already satisfied: PySocks!=1.5.7,>=1.5.6 in /usr/local/lib/python3.7/dist-packages (from requests[socks]>=2.11.1->tweepy) (1.7.1)\n"
          ]
        }
      ]
    },
    {
      "cell_type": "code",
      "source": [
        "#Paso 0.1 Autentificación\n",
        "import tweepy\n",
        "consumer_key = \"0P9DjdpkFKPVfZfpE7qDI7hQb\"\n",
        "consumer_secret = \"RfKuIsLYISTQwlrKefIt7HLajcRdH78zHxp7FyAoVnTAiO03ay\"\n",
        "access_token = \"1194443793317056512-QDGtnRJ5mgEsHno3j6grLAKhmYCBqv\"\n",
        "access_token_secret = \"1mSWwkftAUlHizzITbdermR8xg98Gseg6roxPQCAARQWS\""
      ],
      "metadata": {
        "id": "y8hT-OOArJgT"
      },
      "execution_count": null,
      "outputs": []
    },
    {
      "cell_type": "code",
      "metadata": {
        "id": "o7m0hcNj4M72"
      },
      "source": [
        "#Paso 0.2 Crear el objeto de la API\n",
        "#Crear el objeto de autentificación\n",
        "auth = tweepy.OAuthHandler(consumer_key, consumer_secret)\n",
        "\n",
        "#Configurar el access token y el secret\n",
        "auth.set_access_token(access_token, access_token_secret)\n",
        "\n",
        "#Crear el objeto de la API pasando la información de autentificación\n",
        "api = tweepy.API(auth,parser=tweepy.parsers.JSONParser())"
      ],
      "execution_count": null,
      "outputs": []
    },
    {
      "cell_type": "code",
      "metadata": {
        "id": "CTRDDrow4T6F",
        "colab": {
          "base_uri": "https://localhost:8080/"
        },
        "outputId": "70bc23d3-4b73-49e4-d6fe-7a36dbc17127"
      },
      "source": [
        "#Paso 0.3 ver mis tweets\n",
        "public_tweets = api.home_timeline()\n",
        "for tweet in public_tweets:\n",
        "    print(tweet.text)"
      ],
      "execution_count": null,
      "outputs": [
        {
          "output_type": "stream",
          "name": "stdout",
          "text": [
            "Just gonna have some fun today. \n",
            "Let's get it.\n",
            "You know who else is this? https://t.co/cTpc0yjBIv\n",
            "https://t.co/3tUNKyOKeG https://t.co/87fTvMocEH\n",
            "Last Losers Round 1 match of this bracket!\n",
            "\n",
            "@nullGS vs. @SsbmGinger begins now 🔥\n",
            "\n",
            "📺 https://t.co/gTvtiwXfa6\n",
            "🗣️… https://t.co/IKERManWJO\n",
            "RT @GerardsJulien: Another one for today. Didn't expect to be satisfied with that one but I think it turned well https://t.co/dvEFJxUEO4\n",
            "RT @SFAT: If Mango and I meet in WS, and I win, he said he'll go vegan for a MONTH\n",
            "\n",
            "Send me your energy 🥦\n",
            "https://t.co/6AG92Mkqap https://t.co/uKZccvUKQR\n",
            "RT @bumpaah: BRAZILIANS WATCHING ACEND WIN CHAMPIONS https://t.co/G22MHCQW4d\n",
            "Brazil realizing they would've beat the VCT Champions if it weren't for one funny camera...#VALORANTChampions https://t.co/nadt2pGrO8\n",
            "What’s up Worldstar Fam! 🌎⭐️ Our NFT Collection is dropping soon and we’re giving out 69 whitelist/ all access pass… https://t.co/xNO8I87JMS\n",
            "Polska phantom it is!\n",
            "Keiko Nobumoto, the writer behind such anime as Cowboy Bebop, Macross Plus, Wolf's Rain, and Tokyo Godfathers, has… https://t.co/ZKInKklFBx\n",
            "I would love to play as Edea Lee from Bravely Default: Flying Fairy in Smash. https://t.co/Y6sr2SwC8p\n",
            "OFF (2008, PC, Mortis Ghost) https://t.co/Zb7qZcEVKr\n",
            "Why. Why is this a thing.\n",
            "\n",
            "I don't even know what to even think. https://t.co/VTN6mc0pNo\n",
            "did not mean to start any arguments in the replies. I can't speak for autistic people as to whether \"autistic\" shou… https://t.co/h2zh3Yt5al\n",
            "hi every1 im new!!!!!!! *holds up spork* my name is carson but u can call me t3h PeNgU1N oF d00m!!!!!!!! lol…as u c… https://t.co/XJ1BsdWxKx\n",
            "@Carvapriv Aczino campeón 🤠\n",
            "https://t.co/phRjNXBTN7\n",
            "RT @OsJimenezG: Como siempre un caos en la \"solución\" vial que se inventaron en el cruce de Aurelio Ortega y Laureles! Urge una buena sincr…\n"
          ]
        }
      ]
    },
    {
      "cell_type": "code",
      "source": [
        "#PASO 1: getTweets \n",
        "import numpy as np\n",
        "\n",
        "def getTweets(account):\n",
        "  tweetCount = 10\n",
        "  results = api.user_timeline(id = account, count=tweetCount)\n",
        "  for tweet in results:\n",
        "    print(tweet.text)\n",
        "\n",
        "#Test Loop\n",
        "cuentas = [\"IGN\",\"kotaku\",\"polygon\"]\n",
        "for cuenta in cuentas:\n",
        "  getTweets(cuenta)"
      ],
      "metadata": {
        "colab": {
          "base_uri": "https://localhost:8080/"
        },
        "id": "i7yQ4kj7uMMi",
        "outputId": "07c50fbf-8177-4ed9-c540-10728090e842"
      },
      "execution_count": null,
      "outputs": [
        {
          "output_type": "stream",
          "name": "stdout",
          "text": [
            "Keiko Nobumoto, the writer behind such anime as Cowboy Bebop, Macross Plus, Wolf's Rain, and Tokyo Godfathers, has… https://t.co/ZKInKklFBx\n",
            "iam8bit has announced not only a Persona 25th Anniversary Deluxe Vinyl Box Set, but also individual vinyl for Perso… https://t.co/O4aqVHMyou\n",
            "RT @SiddhantAdlakha: Eighteen years later, \"Spider-Man 2\" remains the superhero gold standard, from its villain, to its romance, to its rig…\n",
            "https://t.co/1PEreWmZgb\n",
            "Nintendo has revealed some of its limited edition Super Nintendo World holiday merch, including Mushroom and Star E… https://t.co/D6w1DCQq6e\n",
            "Shovel Knight Pocket Dungeon is a wonderful spin-off that combines block-falling puzzle and roguelite mechanics in… https://t.co/kSVWR1ip7N\n",
            "Sonic the Hedgehog 2's Jeff Fowler discusses incorporating more of the game series' lore, bringing Knuckles in, why… https://t.co/Z2ZylDU1Q8\n",
            "ICYMI: Kevin Feige confirmed Charlie Cox will remain the MCU’s Daredevil. https://t.co/BJYaB2ghsE https://t.co/Fxdvokz4Jm\n",
            "ICYMI: GTA Online will be receiving a story expansion featuring GTA V character Franklin and Dr. Dre.… https://t.co/JUhFwnzN3K\n",
            "Remedy writer and Alan Wake 2 co-director Sam Lake sat down to discuss some higher-level details of the long-antici… https://t.co/jNi1i7X4gQ\n",
            "A decade ago this weekend, Epic announced Fortnite. Since then, a lot has changed:\n",
            "https://t.co/wqaGAVqXUz https://t.co/xRfAYY6NfW\n",
            "We live in Hell and this Ubisoft NFT that requires you to play 600 hours of Ghost Recon is proof:… https://t.co/IbAzrozlsC\n",
            "Halo Infinite finally getting a Slayer playlist next week:\n",
            "https://t.co/USrYEuDs0V https://t.co/5b7DzuFhfQ\n",
            "Peter Molyneux's next game is a 'blockchain business sim' featuring NFTs because the future sucks:… https://t.co/DJFDWHBZlt\n",
            "The 11 best anime of 2021:\n",
            "https://t.co/UmeEks6lHq https://t.co/8FjVYGZgx8\n",
            "Riot Games sues scammers offering folks fake jobs at the studio: https://t.co/g0ctXeRQKT https://t.co/dzEFsJMBmd\n",
            "Discord server gets over 1,000,000 members for the first time:  https://t.co/ZzXIZDwuV8 https://t.co/87qlHHtuJ5\n",
            "Halo Infinite finally getting a Slayer playlist next week:\n",
            "https://t.co/USrYEuDs0V https://t.co/sie8pMOoYU\n",
            "Destiny 2 gets evil Tobey Maguire dance from Spider-Man 3: https://t.co/JfNIR7ihRF https://t.co/WYbks7pVnO\n",
            "After last night's Game Awards, we had to make some updates to our list. So, here’s every upcoming video game relea… https://t.co/sff9LuayEt\n",
            "Our favorite science fiction and fantasy books of 2021 https://t.co/XlgQAt8r5E https://t.co/mPohGGtMP2\n",
            "Netflix canceling Cowboy Bebop after one season wastes all of its promise https://t.co/7KobCJkgjE https://t.co/BbuUnvIp2m\n",
            "We all caught up on Halo lore yet? https://t.co/rajUYtEmOf https://t.co/f8SbhBBXzK\n",
            "Master Chief’s laconic nature makes him the perfect video game action hero. Our interview with @franklez and… https://t.co/4qsUS5IIfr\n",
            "Idris Elba had a lot of questions about Knuckles’ motivations, says Sonic 2 director https://t.co/sVn1ckNTSF https://t.co/gzoAv0PIbF\n",
            "Kyle Mooney’s new Netflix show Saturday Morning All Star Hits! offers a specific nostalgia rush to one grown-up gro… https://t.co/lvYbuFN2kA\n",
            "The Game Awards’ biggest big boys, ranked https://t.co/oKAkZ3elhK https://t.co/X3yrlVGZiv\n",
            "Final Fantasy 7 Remake coming to PC — with $69.99 console game pricing https://t.co/sP4wtnpQj4 https://t.co/32wrAam5Q6\n",
            "Xbox Game Pass for PC is now PC Game Pass  https://t.co/GxhIJbc0LM https://t.co/S1ZkHnXT98\n",
            "There sure was a lot of horror at The Game Awards this year https://t.co/hNziNwqTWM https://t.co/5A05SJ6c5V\n"
          ]
        }
      ]
    },
    {
      "cell_type": "code",
      "source": [
        "#Paso 2: Función para colocar los tweets en un archivo de texto\n",
        "lista2 = []\n",
        "def fetchTweet(tuits):\n",
        "  for each_json_tweet in tuits:\n",
        "    lista2.append(each_json_tweet)\n",
        "\n",
        "  with open('tweets2.txt','w') as file:\n",
        "    file.write(json.dumps(lista2, indent=4))"
      ],
      "metadata": {
        "id": "z1_ejrMZ1LLv"
      },
      "execution_count": null,
      "outputs": []
    },
    {
      "cell_type": "code",
      "source": [
        "#Paso 3: Colocar los tweets dentro del archivo\n",
        "igntweets = api.user_timeline('IGN',count=200)\n",
        "kotakutweets = api.user_timeline('kotaku',count=200)\n",
        "polygontweets = api.user_timeline('polygon',count=200)\n",
        "engadgettweets = api.user_timeline('engadgetgaming', count=200)\n",
        "\n",
        "tweets=[igntweets,kotakutweets,polygontweets,engadgettweets]\n",
        "\n",
        "for tuit in tweets:\n",
        "  fetchTweet(tuit)"
      ],
      "metadata": {
        "id": "ZsSDfGu22DrM"
      },
      "execution_count": null,
      "outputs": []
    },
    {
      "cell_type": "code",
      "source": [
        "#Paso 4 Guardar los tweets en un JSON\n",
        "lista_demo = []\n",
        "with open('tweets2.txt',encoding='utf-8') as json_file:\n",
        "  all_data = json.load(json_file)\n",
        "  for each_dictionary in all_data:\n",
        "    tweet_id = each_dictionary['id']\n",
        "    text = each_dictionary['text']\n",
        "\n",
        "    lista_demo.append({'tweet_id':str(tweet_id),\n",
        "                       'text': str(text)})\n",
        "    \n",
        "    tweetsColectivos = pd.DataFrame(lista_demo, columns=['tweet_id', 'text'])"
      ],
      "metadata": {
        "id": "laVQXCE-2agp"
      },
      "execution_count": null,
      "outputs": []
    },
    {
      "cell_type": "code",
      "source": [
        "print(tweetsColectivos)"
      ],
      "metadata": {
        "colab": {
          "base_uri": "https://localhost:8080/"
        },
        "id": "9ChMkAlz3Bn1",
        "outputId": "485e5baa-c99f-416d-c134-245e3afcdec6"
      },
      "execution_count": null,
      "outputs": [
        {
          "output_type": "stream",
          "name": "stdout",
          "text": [
            "                tweet_id                                               text\n",
            "0    1470151729140441101  Keiko Nobumoto, the writer behind such anime a...\n",
            "1    1470136633022468100  iam8bit has announced not only a Persona 25th ...\n",
            "2    1470126201251450884  RT @SiddhantAdlakha: Eighteen years later, \"Sp...\n",
            "3    1470122095279587328                            https://t.co/1PEreWmZgb\n",
            "4    1470121544689008641  Nintendo has revealed some of its limited edit...\n",
            "..                   ...                                                ...\n",
            "595  1466446862832001025  The Matrix Awakens leaked art teases ‘an Unrea...\n",
            "596  1466432863109324805  Award-winning Lord of the Rings tabletop RPG n...\n",
            "597  1466429559411204105  I’ve pondered the orb and now I can’t go back ...\n",
            "598  1466427605884747777  An ad for Fortnite Chapter 3 has leaked on Tik...\n",
            "599  1466423249173159946  Gollum is one of the great screen performances...\n",
            "\n",
            "[600 rows x 2 columns]\n"
          ]
        }
      ]
    }
  ]
}