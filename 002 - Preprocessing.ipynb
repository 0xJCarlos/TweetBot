{
 "cells": [
  {
   "cell_type": "code",
   "execution_count": 24,
   "id": "1e338b27",
   "metadata": {},
   "outputs": [],
   "source": [
    "#Importing Libraries\n",
    "import pandas as pd\n",
    "import nltk\n",
    "from nltk.tokenize import word_tokenize\n",
    "from nltk.corpus import stopwords\n",
    "from collections import Counter\n",
    "import matplotlib.pyplot as plt\n",
    "from wordcloud import WordCloud\n",
    "from nltk.sentiment import SentimentIntensityAnalyzer\n",
    "import spacy\n",
    "from tqdm import tqdm\n",
    "from IPython.display import clear_output"
   ]
  },
  {
   "cell_type": "code",
   "execution_count": 2,
   "id": "b0f96f91",
   "metadata": {},
   "outputs": [],
   "source": [
    "#Loading and separating only the text\n",
    "df_raw = pd.read_csv('tweets_raw.csv')\n",
    "df = pd.DataFrame()\n",
    "df['full_text'] = df_raw['full_text']"
   ]
  },
  {
   "cell_type": "code",
   "execution_count": 5,
   "id": "f826c939",
   "metadata": {},
   "outputs": [
    {
     "name": "stderr",
     "output_type": "stream",
     "text": [
      "[nltk_data] Downloading package stopwords to\n",
      "[nltk_data]     C:\\Users\\zenny\\AppData\\Roaming\\nltk_data...\n",
      "[nltk_data]   Package stopwords is already up-to-date!\n"
     ]
    }
   ],
   "source": [
    "#Preprocessing\n",
    "nltk.download('stopwords')\n",
    "stop_words = set(stopwords.words('english'))"
   ]
  },
  {
   "cell_type": "code",
   "execution_count": 6,
   "id": "2a706b44",
   "metadata": {},
   "outputs": [],
   "source": [
    "def preprocess_text(text):\n",
    "    tokens = word_tokenize(text.lower())\n",
    "    tokens = [token for token in tokens if token.isalpha() and token not in stop_words]\n",
    "    return tokens"
   ]
  },
  {
   "cell_type": "code",
   "execution_count": 10,
   "id": "3950145c",
   "metadata": {},
   "outputs": [],
   "source": [
    "df['processed_text'] = df['full_text'].apply(preprocess_text)"
   ]
  },
  {
   "cell_type": "code",
   "execution_count": 13,
   "id": "191c4ae3",
   "metadata": {},
   "outputs": [],
   "source": [
    "nlp = spacy.load('en_core_web_sm')"
   ]
  },
  {
   "cell_type": "code",
   "execution_count": 22,
   "id": "29e64fa1",
   "metadata": {},
   "outputs": [],
   "source": [
    "def extract_entities(text):\n",
    "    doc = nlp(text)\n",
    "    entities = [ent.text for ent in doc.ents if ent.label_ in ['ORG', 'PRODUCT']]\n",
    "    extract_entities.counter += 1\n",
    "    print(f\"Processing entity {extract_entities.counter}: {entities} out of 30000\")\n",
    "    clear_output(wait=True)\n",
    "    return entities\n",
    "extract_entities.counter = 0"
   ]
  },
  {
   "cell_type": "code",
   "execution_count": 25,
   "id": "7f2c00bc",
   "metadata": {},
   "outputs": [
    {
     "name": "stderr",
     "output_type": "stream",
     "text": [
      "100%|██████████| 30000/30000 [00:00<00:00, 1999922.44it/s]\n"
     ]
    }
   ],
   "source": [
    "df['entities'] = list(tqdm(df['full_text'].apply(extract_entities), total=len(df)))"
   ]
  },
  {
   "cell_type": "code",
   "execution_count": 27,
   "id": "58410799",
   "metadata": {},
   "outputs": [],
   "source": [
    "#Counting entity occurrences\n",
    "entities_count = Counter([entity for entities in df['entities'] for entity in entities])"
   ]
  },
  {
   "cell_type": "code",
   "execution_count": 30,
   "id": "531ba308",
   "metadata": {},
   "outputs": [
    {
     "data": {
      "image/png": "[encoded data removed]",
      "text/plain": [
       "<Figure size 432x288 with 1 Axes>"
      ]
     },
     "metadata": {
      "needs_background": "light"
     },
     "output_type": "display_data"
    }
   ],
   "source": [
    "#Display top mentioned entities\n",
    "top_entities = entities_count.most_common(10)\n",
    "entity_names, entity_counts = zip(*top_entities)\n",
    "\n",
    "#Create a bar chart\n",
    "plt.barh(entity_names, entity_counts)\n",
    "plt.xlabel('Count')\n",
    "plt.ylabel('Entities')\n",
    "plt.title('Top Mentioned Entities in Tweets')\n",
    "plt.show()"
   ]
  },
  {
   "cell_type": "code",
   "execution_count": 33,
   "id": "4995faa1",
   "metadata": {},
   "outputs": [],
   "source": [
    "#Sentiment analysis\n",
    "sia = SentimentIntensityAnalyzer()\n",
    "\n",
    "def get_sentiment(text):\n",
    "    sentiment = sia.polarity_scores(text)['compound']\n",
    "    if sentiment >= 0.1:\n",
    "        return 'Positive'\n",
    "    elif sentiment <= -0.1:\n",
    "        return 'Negative'\n",
    "    else:\n",
    "        return 'Intermediate'"
   ]
  },
  {
   "cell_type": "code",
   "execution_count": 34,
   "id": "5793c3fe",
   "metadata": {},
   "outputs": [],
   "source": [
    "df['sentiment'] = df['full_text'].apply(get_sentiment)"
   ]
  },
  {
   "cell_type": "code",
   "execution_count": 37,
   "id": "24d57b7c",
   "metadata": {},
   "outputs": [],
   "source": [
    "# Convert the lists in the 'entities' column to strings\n",
    "df['entities'] = df['entities'].apply(lambda x: ', '.join(x))"
   ]
  },
  {
   "cell_type": "code",
   "execution_count": 38,
   "id": "f47ad099",
   "metadata": {
    "scrolled": true
   },
   "outputs": [],
   "source": [
    "#Aggregate sentiment scores for each topic\n",
    "aggregated_sentiment = df.groupby('entities')['sentiment'].value_counts().unstack().fillna(0)"
   ]
  },
  {
   "cell_type": "code",
   "execution_count": 39,
   "id": "7c84bddd",
   "metadata": {},
   "outputs": [],
   "source": [
    "#Determine general opinion for each topic\n",
    "aggregated_sentiment['General Opinion'] = aggregated_sentiment.idxmax(axis=1)"
   ]
  },
  {
   "cell_type": "code",
   "execution_count": 65,
   "id": "80c47ba1",
   "metadata": {},
   "outputs": [],
   "source": [
    "#Calculate word frequencies\n",
    "word_freq = pd.Series([word for tokens in df['processed_text'] for word in tokens]).value_counts()"
   ]
  },
  {
   "cell_type": "code",
   "execution_count": 66,
   "id": "c749e54f",
   "metadata": {},
   "outputs": [
    {
     "name": "stdout",
     "output_type": "stream",
     "text": [
      "               Word  Frequency\n",
      "0             https      49562\n",
      "1              game       4124\n",
      "2               new       3571\n",
      "3             games       3086\n",
      "4              xbox       1622\n",
      "...             ...        ...\n",
      "20522      yeehawin          1\n",
      "20523        santas          1\n",
      "20524         shack          1\n",
      "20525  ecologically          1\n",
      "20526          tali          1\n",
      "\n",
      "[20527 rows x 2 columns]\n"
     ]
    }
   ],
   "source": [
    "#Display word frequencies table\n",
    "word_freq_table = pd.DataFrame({'Word': word_freq.index, 'Frequency': word_freq.values})\n",
    "print(word_freq_table)"
   ]
  },
  {
   "cell_type": "code",
   "execution_count": 67,
   "id": "07039843",
   "metadata": {},
   "outputs": [],
   "source": [
    "#Aggregate sentiment scores for each topic\n",
    "aggregated_sentiment = df.groupby('entities')['sentiment'].value_counts().unstack().fillna(0)\n"
   ]
  },
  {
   "cell_type": "code",
   "execution_count": 68,
   "id": "9ee30bcd",
   "metadata": {},
   "outputs": [],
   "source": [
    "aggregated_sentiment['General Opinion'] = aggregated_sentiment.idxmax(axis=1)"
   ]
  },
  {
   "cell_type": "code",
   "execution_count": 71,
   "id": "b28264d7",
   "metadata": {},
   "outputs": [
    {
     "data": {
      "text/html": [
       "<div>\n",
       "<style scoped>\n",
       "    .dataframe tbody tr th:only-of-type {\n",
       "        vertical-align: middle;\n",
       "    }\n",
       "\n",
       "    .dataframe tbody tr th {\n",
       "        vertical-align: top;\n",
       "    }\n",
       "\n",
       "    .dataframe thead th {\n",
       "        text-align: right;\n",
       "    }\n",
       "</style>\n",
       "<table border=\"1\" class=\"dataframe\">\n",
       "  <thead>\n",
       "    <tr style=\"text-align: right;\">\n",
       "      <th>sentiment</th>\n",
       "      <th>Intermediate</th>\n",
       "      <th>Negative</th>\n",
       "      <th>Positive</th>\n",
       "      <th>General Opinion</th>\n",
       "    </tr>\n",
       "    <tr>\n",
       "      <th>entities</th>\n",
       "      <th></th>\n",
       "      <th></th>\n",
       "      <th></th>\n",
       "      <th></th>\n",
       "    </tr>\n",
       "  </thead>\n",
       "  <tbody>\n",
       "    <tr>\n",
       "      <th></th>\n",
       "      <td>5633.0</td>\n",
       "      <td>3190.0</td>\n",
       "      <td>4581.0</td>\n",
       "      <td>Intermediate</td>\n",
       "    </tr>\n",
       "    <tr>\n",
       "      <th>#Anime, JumpForce</th>\n",
       "      <td>0.0</td>\n",
       "      <td>0.0</td>\n",
       "      <td>1.0</td>\n",
       "      <td>Positive</td>\n",
       "    </tr>\n",
       "    <tr>\n",
       "      <th>#Arcade Archives</th>\n",
       "      <td>2.0</td>\n",
       "      <td>1.0</td>\n",
       "      <td>2.0</td>\n",
       "      <td>Intermediate</td>\n",
       "    </tr>\n",
       "    <tr>\n",
       "      <th>#Arcade Archives’ Future Ninja, Namco</th>\n",
       "      <td>0.0</td>\n",
       "      <td>0.0</td>\n",
       "      <td>1.0</td>\n",
       "      <td>Positive</td>\n",
       "    </tr>\n",
       "    <tr>\n",
       "      <th>#Brands</th>\n",
       "      <td>0.0</td>\n",
       "      <td>0.0</td>\n",
       "      <td>1.0</td>\n",
       "      <td>Positive</td>\n",
       "    </tr>\n",
       "    <tr>\n",
       "      <th>...</th>\n",
       "      <td>...</td>\n",
       "      <td>...</td>\n",
       "      <td>...</td>\n",
       "      <td>...</td>\n",
       "    </tr>\n",
       "    <tr>\n",
       "      <th>💦</th>\n",
       "      <td>0.0</td>\n",
       "      <td>0.0</td>\n",
       "      <td>1.0</td>\n",
       "      <td>Positive</td>\n",
       "    </tr>\n",
       "    <tr>\n",
       "      <th>💦, 💦</th>\n",
       "      <td>0.0</td>\n",
       "      <td>0.0</td>\n",
       "      <td>1.0</td>\n",
       "      <td>Positive</td>\n",
       "    </tr>\n",
       "    <tr>\n",
       "      <th>📜</th>\n",
       "      <td>0.0</td>\n",
       "      <td>0.0</td>\n",
       "      <td>1.0</td>\n",
       "      <td>Positive</td>\n",
       "    </tr>\n",
       "    <tr>\n",
       "      <th>🔦 https://t.co/qar3WKDFhu</th>\n",
       "      <td>0.0</td>\n",
       "      <td>0.0</td>\n",
       "      <td>1.0</td>\n",
       "      <td>Positive</td>\n",
       "    </tr>\n",
       "    <tr>\n",
       "      <th>🕷</th>\n",
       "      <td>0.0</td>\n",
       "      <td>0.0</td>\n",
       "      <td>1.0</td>\n",
       "      <td>Positive</td>\n",
       "    </tr>\n",
       "  </tbody>\n",
       "</table>\n",
       "<p>8910 rows × 4 columns</p>\n",
       "</div>"
      ],
      "text/plain": [
       "sentiment                              Intermediate  Negative  Positive  \\\n",
       "entities                                                                  \n",
       "                                             5633.0    3190.0    4581.0   \n",
       "#Anime, JumpForce                               0.0       0.0       1.0   \n",
       "#Arcade Archives                                2.0       1.0       2.0   \n",
       "#Arcade Archives’ Future Ninja, Namco           0.0       0.0       1.0   \n",
       "#Brands                                         0.0       0.0       1.0   \n",
       "...                                             ...       ...       ...   \n",
       "💦                                               0.0       0.0       1.0   \n",
       "💦, 💦                                            0.0       0.0       1.0   \n",
       "📜                                               0.0       0.0       1.0   \n",
       "🔦 https://t.co/qar3WKDFhu                       0.0       0.0       1.0   \n",
       "🕷                                               0.0       0.0       1.0   \n",
       "\n",
       "sentiment                             General Opinion  \n",
       "entities                                               \n",
       "                                         Intermediate  \n",
       "#Anime, JumpForce                            Positive  \n",
       "#Arcade Archives                         Intermediate  \n",
       "#Arcade Archives’ Future Ninja, Namco        Positive  \n",
       "#Brands                                      Positive  \n",
       "...                                               ...  \n",
       "💦                                            Positive  \n",
       "💦, 💦                                         Positive  \n",
       "📜                                            Positive  \n",
       "🔦 https://t.co/qar3WKDFhu                    Positive  \n",
       "🕷                                            Positive  \n",
       "\n",
       "[8910 rows x 4 columns]"
      ]
     },
     "execution_count": 71,
     "metadata": {},
     "output_type": "execute_result"
    }
   ],
   "source": [
    "aggregated_sentiment"
   ]
  },
  {
   "cell_type": "code",
   "execution_count": 73,
   "id": "f99a7b02",
   "metadata": {},
   "outputs": [],
   "source": [
    "aggregated_sentiment.to_csv('output_data/aggregated_sentiment.csv')"
   ]
  },
  {
   "cell_type": "code",
   "execution_count": null,
   "id": "377b336b",
   "metadata": {},
   "outputs": [],
   "source": []
  }
 ],
 "metadata": {
  "kernelspec": {
   "display_name": "Python 3 (ipykernel)",
   "language": "python",
   "name": "python3"
  },
  "language_info": {
   "codemirror_mode": {
    "name": "ipython",
    "version": 3
   },
   "file_extension": ".py",
   "mimetype": "text/x-python",
   "name": "python",
   "nbconvert_exporter": "python",
   "pygments_lexer": "ipython3",
   "version": "3.9.12"
  }
 },
 "nbformat": 4,
 "nbformat_minor": 5
}
